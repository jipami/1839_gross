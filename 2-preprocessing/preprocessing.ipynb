{
  "nbformat": 4,
  "nbformat_minor": 0,
  "metadata": {
    "colab": {
      "name": "전처리.ipynb의 사본",
      "provenance": [],
      "collapsed_sections": []
    },
    "kernelspec": {
      "name": "python3",
      "display_name": "Python 3"
    },
    "language_info": {
      "name": "python"
    }
  },
  "cells": [
    {
      "cell_type": "code",
      "metadata": {
        "id": "fifn9j8BH_U_",
        "colab": {
          "base_uri": "https://localhost:8080/",
          "height": 1000
        },
        "outputId": "39c41626-8d46-4215-cc98-d0f024173d52"
      },
      "source": [
        "!pip install kss\n",
        "!pip install konlpy\n",
        "!pip install git+https://github.com/ssut/py-hanspell.git\n",
        "!pip install git+https://github.com/haven-jeon/PyKoSpacing.git\n"
      ],
      "execution_count": 1,
      "outputs": [
        {
          "output_type": "stream",
          "name": "stdout",
          "text": [
            "Looking in indexes: https://pypi.org/simple, https://us-python.pkg.dev/colab-wheels/public/simple/\n",
            "Collecting kss\n",
            "  Downloading kss-3.4.2.tar.gz (42.4 MB)\n",
            "\u001b[K     |████████████████████████████████| 42.4 MB 66.1 MB/s \n",
            "\u001b[?25hCollecting emoji\n",
            "  Downloading emoji-1.7.0.tar.gz (175 kB)\n",
            "\u001b[K     |████████████████████████████████| 175 kB 56.1 MB/s \n",
            "\u001b[?25hRequirement already satisfied: regex in /usr/local/lib/python3.7/dist-packages (from kss) (2019.12.20)\n",
            "Requirement already satisfied: more_itertools in /usr/local/lib/python3.7/dist-packages (from kss) (8.13.0)\n",
            "Building wheels for collected packages: kss, emoji\n",
            "  Building wheel for kss (setup.py) ... \u001b[?25l\u001b[?25hdone\n",
            "  Created wheel for kss: filename=kss-3.4.2-py3-none-any.whl size=42448069 sha256=9ca5930b0adc777e3901115bc6d3170881763655deed946b32b928ef41e07e55\n",
            "  Stored in directory: /root/.cache/pip/wheels/ef/22/aa/6399b60516a067ec97fa6599fb2d472aeb25e3f9ee6dae3224\n",
            "  Building wheel for emoji (setup.py) ... \u001b[?25l\u001b[?25hdone\n",
            "  Created wheel for emoji: filename=emoji-1.7.0-py3-none-any.whl size=171046 sha256=180c3012e19d6f1e0657d2bb3b69171745e9035e25ba84a52d1e2bc6925dccea\n",
            "  Stored in directory: /root/.cache/pip/wheels/8a/4e/b6/57b01db010d17ef6ea9b40300af725ef3e210cb1acfb7ac8b6\n",
            "Successfully built kss emoji\n",
            "Installing collected packages: emoji, kss\n",
            "Successfully installed emoji-1.7.0 kss-3.4.2\n",
            "Looking in indexes: https://pypi.org/simple, https://us-python.pkg.dev/colab-wheels/public/simple/\n",
            "Collecting konlpy\n",
            "  Downloading konlpy-0.6.0-py2.py3-none-any.whl (19.4 MB)\n",
            "\u001b[K     |████████████████████████████████| 19.4 MB 1.2 MB/s \n",
            "\u001b[?25hRequirement already satisfied: numpy>=1.6 in /usr/local/lib/python3.7/dist-packages (from konlpy) (1.21.6)\n",
            "Collecting JPype1>=0.7.0\n",
            "  Downloading JPype1-1.4.0-cp37-cp37m-manylinux_2_5_x86_64.manylinux1_x86_64.whl (453 kB)\n",
            "\u001b[K     |████████████████████████████████| 453 kB 37.5 MB/s \n",
            "\u001b[?25hRequirement already satisfied: lxml>=4.1.0 in /usr/local/lib/python3.7/dist-packages (from konlpy) (4.2.6)\n",
            "Requirement already satisfied: typing-extensions in /usr/local/lib/python3.7/dist-packages (from JPype1>=0.7.0->konlpy) (4.2.0)\n",
            "Installing collected packages: JPype1, konlpy\n",
            "Successfully installed JPype1-1.4.0 konlpy-0.6.0\n",
            "Looking in indexes: https://pypi.org/simple, https://us-python.pkg.dev/colab-wheels/public/simple/\n",
            "Collecting git+https://github.com/ssut/py-hanspell.git\n",
            "  Cloning https://github.com/ssut/py-hanspell.git to /tmp/pip-req-build-jfq8h2cr\n",
            "  Running command git clone -q https://github.com/ssut/py-hanspell.git /tmp/pip-req-build-jfq8h2cr\n",
            "Requirement already satisfied: requests in /usr/local/lib/python3.7/dist-packages (from py-hanspell==1.1) (2.23.0)\n",
            "Requirement already satisfied: chardet<4,>=3.0.2 in /usr/local/lib/python3.7/dist-packages (from requests->py-hanspell==1.1) (3.0.4)\n",
            "Requirement already satisfied: certifi>=2017.4.17 in /usr/local/lib/python3.7/dist-packages (from requests->py-hanspell==1.1) (2022.5.18.1)\n",
            "Requirement already satisfied: urllib3!=1.25.0,!=1.25.1,<1.26,>=1.21.1 in /usr/local/lib/python3.7/dist-packages (from requests->py-hanspell==1.1) (1.24.3)\n",
            "Requirement already satisfied: idna<3,>=2.5 in /usr/local/lib/python3.7/dist-packages (from requests->py-hanspell==1.1) (2.10)\n",
            "Building wheels for collected packages: py-hanspell\n",
            "  Building wheel for py-hanspell (setup.py) ... \u001b[?25l\u001b[?25hdone\n",
            "  Created wheel for py-hanspell: filename=py_hanspell-1.1-py3-none-any.whl size=4868 sha256=6e7e1ad9eb9a89445ff4212528a96d600cd9e32f511f6b633436e4fc78edec80\n",
            "  Stored in directory: /tmp/pip-ephem-wheel-cache-6p6s4xqw/wheels/ab/f5/7b/d4124bb329c905301baed80e2ae45aa14e824f62ebc3ec2cc4\n",
            "Successfully built py-hanspell\n",
            "Installing collected packages: py-hanspell\n",
            "Successfully installed py-hanspell-1.1\n",
            "Looking in indexes: https://pypi.org/simple, https://us-python.pkg.dev/colab-wheels/public/simple/\n",
            "Collecting git+https://github.com/haven-jeon/PyKoSpacing.git\n",
            "  Cloning https://github.com/haven-jeon/PyKoSpacing.git to /tmp/pip-req-build-6tl5ssbh\n",
            "  Running command git clone -q https://github.com/haven-jeon/PyKoSpacing.git /tmp/pip-req-build-6tl5ssbh\n",
            "Collecting tensorflow==2.6.4\n",
            "  Downloading https://us-python.pkg.dev/colab-wheels/public/tensorflow/tensorflow-2.6.4%2Bzzzcolab20220516125453-cp37-cp37m-linux_x86_64.whl\n",
            "\u001b[K     - 570.3 MB 72.1 MB/s\n",
            "\u001b[?25hRequirement already satisfied: h5py==3.1.0 in /usr/local/lib/python3.7/dist-packages (from pykospacing==0.5) (3.1.0)\n",
            "Collecting argparse>=1.4.0\n",
            "  Downloading argparse-1.4.0-py2.py3-none-any.whl (23 kB)\n",
            "Requirement already satisfied: numpy>=1.14.5 in /usr/local/lib/python3.7/dist-packages (from h5py==3.1.0->pykospacing==0.5) (1.21.6)\n",
            "Requirement already satisfied: cached-property in /usr/local/lib/python3.7/dist-packages (from h5py==3.1.0->pykospacing==0.5) (1.5.2)\n",
            "Collecting keras<2.7,>=2.6.0\n",
            "  Downloading keras-2.6.0-py2.py3-none-any.whl (1.3 MB)\n",
            "\u001b[K     |████████████████████████████████| 1.3 MB 11.5 MB/s \n",
            "\u001b[?25hRequirement already satisfied: opt-einsum~=3.3.0 in /usr/local/lib/python3.7/dist-packages (from tensorflow==2.6.4->pykospacing==0.5) (3.3.0)\n",
            "Collecting typing-extensions<3.11,>=3.7\n",
            "  Downloading typing_extensions-3.10.0.2-py3-none-any.whl (26 kB)\n",
            "Requirement already satisfied: six~=1.15.0 in /usr/local/lib/python3.7/dist-packages (from tensorflow==2.6.4->pykospacing==0.5) (1.15.0)\n",
            "Collecting tensorboard<2.7,>=2.6.0\n",
            "  Downloading tensorboard-2.6.0-py3-none-any.whl (5.6 MB)\n",
            "\u001b[K     |████████████████████████████████| 5.6 MB 47.0 MB/s \n",
            "\u001b[?25hRequirement already satisfied: grpcio<2.0,>=1.37.0 in /usr/local/lib/python3.7/dist-packages (from tensorflow==2.6.4->pykospacing==0.5) (1.46.1)\n",
            "Requirement already satisfied: keras-preprocessing~=1.1.2 in /usr/local/lib/python3.7/dist-packages (from tensorflow==2.6.4->pykospacing==0.5) (1.1.2)\n",
            "Collecting gast==0.4.0\n",
            "  Downloading gast-0.4.0-py3-none-any.whl (9.8 kB)\n",
            "Collecting wrapt~=1.12.1\n",
            "  Downloading wrapt-1.12.1.tar.gz (27 kB)\n",
            "Collecting tensorflow-estimator<2.7,>=2.6.0\n",
            "  Downloading tensorflow_estimator-2.6.0-py2.py3-none-any.whl (462 kB)\n",
            "\u001b[K     |████████████████████████████████| 462 kB 38.1 MB/s \n",
            "\u001b[?25hRequirement already satisfied: google-pasta~=0.2 in /usr/local/lib/python3.7/dist-packages (from tensorflow==2.6.4->pykospacing==0.5) (0.2.0)\n",
            "Collecting absl-py~=0.10\n",
            "  Downloading absl_py-0.15.0-py3-none-any.whl (132 kB)\n",
            "\u001b[K     |████████████████████████████████| 132 kB 49.6 MB/s \n",
            "\u001b[?25hCollecting flatbuffers~=1.12.0\n",
            "  Downloading flatbuffers-1.12-py2.py3-none-any.whl (15 kB)\n",
            "Requirement already satisfied: wheel~=0.35 in /usr/local/lib/python3.7/dist-packages (from tensorflow==2.6.4->pykospacing==0.5) (0.37.1)\n",
            "Requirement already satisfied: astunparse~=1.6.3 in /usr/local/lib/python3.7/dist-packages (from tensorflow==2.6.4->pykospacing==0.5) (1.6.3)\n",
            "Requirement already satisfied: protobuf>=3.9.2 in /usr/local/lib/python3.7/dist-packages (from tensorflow==2.6.4->pykospacing==0.5) (3.17.3)\n",
            "Collecting numpy>=1.14.5\n",
            "  Downloading numpy-1.19.5-cp37-cp37m-manylinux2010_x86_64.whl (14.8 MB)\n",
            "\u001b[K     |████████████████████████████████| 14.8 MB 31.8 MB/s \n",
            "\u001b[?25hRequirement already satisfied: termcolor~=1.1.0 in /usr/local/lib/python3.7/dist-packages (from tensorflow==2.6.4->pykospacing==0.5) (1.1.0)\n",
            "Collecting clang~=5.0\n",
            "  Downloading clang-5.0.tar.gz (30 kB)\n",
            "Requirement already satisfied: setuptools>=41.0.0 in /usr/local/lib/python3.7/dist-packages (from tensorboard<2.7,>=2.6.0->tensorflow==2.6.4->pykospacing==0.5) (57.4.0)\n",
            "Requirement already satisfied: requests<3,>=2.21.0 in /usr/local/lib/python3.7/dist-packages (from tensorboard<2.7,>=2.6.0->tensorflow==2.6.4->pykospacing==0.5) (2.23.0)\n",
            "Requirement already satisfied: werkzeug>=0.11.15 in /usr/local/lib/python3.7/dist-packages (from tensorboard<2.7,>=2.6.0->tensorflow==2.6.4->pykospacing==0.5) (1.0.1)\n",
            "Requirement already satisfied: tensorboard-plugin-wit>=1.6.0 in /usr/local/lib/python3.7/dist-packages (from tensorboard<2.7,>=2.6.0->tensorflow==2.6.4->pykospacing==0.5) (1.8.1)\n",
            "Requirement already satisfied: tensorboard-data-server<0.7.0,>=0.6.0 in /usr/local/lib/python3.7/dist-packages (from tensorboard<2.7,>=2.6.0->tensorflow==2.6.4->pykospacing==0.5) (0.6.1)\n",
            "Requirement already satisfied: google-auth<2,>=1.6.3 in /usr/local/lib/python3.7/dist-packages (from tensorboard<2.7,>=2.6.0->tensorflow==2.6.4->pykospacing==0.5) (1.35.0)\n",
            "Requirement already satisfied: markdown>=2.6.8 in /usr/local/lib/python3.7/dist-packages (from tensorboard<2.7,>=2.6.0->tensorflow==2.6.4->pykospacing==0.5) (3.3.7)\n",
            "Requirement already satisfied: google-auth-oauthlib<0.5,>=0.4.1 in /usr/local/lib/python3.7/dist-packages (from tensorboard<2.7,>=2.6.0->tensorflow==2.6.4->pykospacing==0.5) (0.4.6)\n",
            "Requirement already satisfied: cachetools<5.0,>=2.0.0 in /usr/local/lib/python3.7/dist-packages (from google-auth<2,>=1.6.3->tensorboard<2.7,>=2.6.0->tensorflow==2.6.4->pykospacing==0.5) (4.2.4)\n",
            "Requirement already satisfied: rsa<5,>=3.1.4 in /usr/local/lib/python3.7/dist-packages (from google-auth<2,>=1.6.3->tensorboard<2.7,>=2.6.0->tensorflow==2.6.4->pykospacing==0.5) (4.8)\n",
            "Requirement already satisfied: pyasn1-modules>=0.2.1 in /usr/local/lib/python3.7/dist-packages (from google-auth<2,>=1.6.3->tensorboard<2.7,>=2.6.0->tensorflow==2.6.4->pykospacing==0.5) (0.2.8)\n",
            "Requirement already satisfied: requests-oauthlib>=0.7.0 in /usr/local/lib/python3.7/dist-packages (from google-auth-oauthlib<0.5,>=0.4.1->tensorboard<2.7,>=2.6.0->tensorflow==2.6.4->pykospacing==0.5) (1.3.1)\n",
            "Requirement already satisfied: importlib-metadata>=4.4 in /usr/local/lib/python3.7/dist-packages (from markdown>=2.6.8->tensorboard<2.7,>=2.6.0->tensorflow==2.6.4->pykospacing==0.5) (4.11.3)\n",
            "Requirement already satisfied: zipp>=0.5 in /usr/local/lib/python3.7/dist-packages (from importlib-metadata>=4.4->markdown>=2.6.8->tensorboard<2.7,>=2.6.0->tensorflow==2.6.4->pykospacing==0.5) (3.8.0)\n",
            "Requirement already satisfied: pyasn1<0.5.0,>=0.4.6 in /usr/local/lib/python3.7/dist-packages (from pyasn1-modules>=0.2.1->google-auth<2,>=1.6.3->tensorboard<2.7,>=2.6.0->tensorflow==2.6.4->pykospacing==0.5) (0.4.8)\n",
            "Requirement already satisfied: idna<3,>=2.5 in /usr/local/lib/python3.7/dist-packages (from requests<3,>=2.21.0->tensorboard<2.7,>=2.6.0->tensorflow==2.6.4->pykospacing==0.5) (2.10)\n",
            "Requirement already satisfied: chardet<4,>=3.0.2 in /usr/local/lib/python3.7/dist-packages (from requests<3,>=2.21.0->tensorboard<2.7,>=2.6.0->tensorflow==2.6.4->pykospacing==0.5) (3.0.4)\n",
            "Requirement already satisfied: urllib3!=1.25.0,!=1.25.1,<1.26,>=1.21.1 in /usr/local/lib/python3.7/dist-packages (from requests<3,>=2.21.0->tensorboard<2.7,>=2.6.0->tensorflow==2.6.4->pykospacing==0.5) (1.24.3)\n",
            "Requirement already satisfied: certifi>=2017.4.17 in /usr/local/lib/python3.7/dist-packages (from requests<3,>=2.21.0->tensorboard<2.7,>=2.6.0->tensorflow==2.6.4->pykospacing==0.5) (2022.5.18.1)\n",
            "Requirement already satisfied: oauthlib>=3.0.0 in /usr/local/lib/python3.7/dist-packages (from requests-oauthlib>=0.7.0->google-auth-oauthlib<0.5,>=0.4.1->tensorboard<2.7,>=2.6.0->tensorflow==2.6.4->pykospacing==0.5) (3.2.0)\n",
            "Building wheels for collected packages: pykospacing, clang, wrapt\n",
            "  Building wheel for pykospacing (setup.py) ... \u001b[?25l\u001b[?25hdone\n",
            "  Created wheel for pykospacing: filename=pykospacing-0.5-py3-none-any.whl size=2268580 sha256=4d47e7441b9429567ba3db13c4c9f1a5308d54effbd6787bbbca3ce6b9f90c76\n",
            "  Stored in directory: /tmp/pip-ephem-wheel-cache-oh_wp971/wheels/9b/93/81/a2a7dc8c66ede5bf30634d20635f32b95eac7ca2ea8844058b\n",
            "  Building wheel for clang (setup.py) ... \u001b[?25l\u001b[?25hdone\n",
            "  Created wheel for clang: filename=clang-5.0-py3-none-any.whl size=30694 sha256=91e23d7cf392b4316003ad134abe47b7002d9a3ec4d7e4fc418165cc76e939cb\n",
            "  Stored in directory: /root/.cache/pip/wheels/98/91/04/971b4c587cf47ae952b108949b46926f426c02832d120a082a\n",
            "  Building wheel for wrapt (setup.py) ... \u001b[?25l\u001b[?25hdone\n",
            "  Created wheel for wrapt: filename=wrapt-1.12.1-cp37-cp37m-linux_x86_64.whl size=68716 sha256=c20040150ea28966dda8a774cafc959f19e91e855fd1c5285a0ce626bf41bcf9\n",
            "  Stored in directory: /root/.cache/pip/wheels/62/76/4c/aa25851149f3f6d9785f6c869387ad82b3fd37582fa8147ac6\n",
            "Successfully built pykospacing clang wrapt\n",
            "Installing collected packages: typing-extensions, numpy, absl-py, wrapt, tensorflow-estimator, tensorboard, keras, gast, flatbuffers, clang, tensorflow, argparse, pykospacing\n",
            "  Attempting uninstall: typing-extensions\n",
            "    Found existing installation: typing-extensions 4.2.0\n",
            "    Uninstalling typing-extensions-4.2.0:\n",
            "      Successfully uninstalled typing-extensions-4.2.0\n",
            "  Attempting uninstall: numpy\n",
            "    Found existing installation: numpy 1.21.6\n",
            "    Uninstalling numpy-1.21.6:\n",
            "      Successfully uninstalled numpy-1.21.6\n",
            "  Attempting uninstall: absl-py\n",
            "    Found existing installation: absl-py 1.0.0\n",
            "    Uninstalling absl-py-1.0.0:\n",
            "      Successfully uninstalled absl-py-1.0.0\n",
            "  Attempting uninstall: wrapt\n",
            "    Found existing installation: wrapt 1.14.1\n",
            "    Uninstalling wrapt-1.14.1:\n",
            "      Successfully uninstalled wrapt-1.14.1\n",
            "  Attempting uninstall: tensorflow-estimator\n",
            "    Found existing installation: tensorflow-estimator 2.8.0\n",
            "    Uninstalling tensorflow-estimator-2.8.0:\n",
            "      Successfully uninstalled tensorflow-estimator-2.8.0\n",
            "  Attempting uninstall: tensorboard\n",
            "    Found existing installation: tensorboard 2.8.0\n",
            "    Uninstalling tensorboard-2.8.0:\n",
            "      Successfully uninstalled tensorboard-2.8.0\n",
            "  Attempting uninstall: keras\n",
            "    Found existing installation: keras 2.8.0\n",
            "    Uninstalling keras-2.8.0:\n",
            "      Successfully uninstalled keras-2.8.0\n",
            "  Attempting uninstall: gast\n",
            "    Found existing installation: gast 0.5.3\n",
            "    Uninstalling gast-0.5.3:\n",
            "      Successfully uninstalled gast-0.5.3\n",
            "  Attempting uninstall: flatbuffers\n",
            "    Found existing installation: flatbuffers 2.0\n",
            "    Uninstalling flatbuffers-2.0:\n",
            "      Successfully uninstalled flatbuffers-2.0\n",
            "  Attempting uninstall: tensorflow\n",
            "    Found existing installation: tensorflow 2.8.0+zzzcolab20220506162203\n",
            "    Uninstalling tensorflow-2.8.0+zzzcolab20220506162203:\n",
            "      Successfully uninstalled tensorflow-2.8.0+zzzcolab20220506162203\n",
            "\u001b[31mERROR: pip's dependency resolver does not currently take into account all the packages that are installed. This behaviour is the source of the following dependency conflicts.\n",
            "xarray-einstats 0.2.2 requires numpy>=1.21, but you have numpy 1.19.5 which is incompatible.\n",
            "datascience 0.10.6 requires folium==0.2.1, but you have folium 0.8.3 which is incompatible.\n",
            "albumentations 0.1.12 requires imgaug<0.2.7,>=0.2.5, but you have imgaug 0.2.9 which is incompatible.\u001b[0m\n",
            "Successfully installed absl-py-0.15.0 argparse-1.4.0 clang-5.0 flatbuffers-1.12 gast-0.4.0 keras-2.6.0 numpy-1.19.5 pykospacing-0.5 tensorboard-2.6.0 tensorflow-2.6.4+zzzcolab20220516125453 tensorflow-estimator-2.6.0 typing-extensions-3.10.0.2 wrapt-1.12.1\n"
          ]
        },
        {
          "output_type": "display_data",
          "data": {
            "application/vnd.colab-display-data+json": {
              "pip_warning": {
                "packages": [
                  "argparse",
                  "numpy",
                  "typing_extensions"
                ]
              }
            }
          },
          "metadata": {}
        }
      ]
    },
    {
      "cell_type": "code",
      "source": [
        "#정제되지 않은 텍스트 예시\n",
        "text='저는 enfp유형인데 저 같은 성향을 가진 사람들은 어떻게 행동하는지 궁금해서 글남겨요!저는 힘든상황이 있을때 가족들한테 털어놓고 어떻게든 그 상황을 해결해나가려고 하는 편이에요.친구들한테도 힘든상황에 대해서 감정적으로 울고불며 그렇게 잘 털어놓지 않고 전혀 티내지도 않아요.항상 긍정적인 모습을 주로 보여주긴해요.어차피 내가 해결해야할 일이고, 나로인해 상대가 걱정하는것도 싫고 제 우울한 감정을 친구한테 전달하고 싶지 않아서 그런거 같아요. 그래도 정말 친한 친구들이랑은 만날때 어느정도 문제가 해결되어갈때 쯤 이런상황이 있었고 힘들었다. 이렇게 털어놓는 편이에요. 근데 어느날 한 지인(이성)이  저한테 너는 힘들면 힘들다고 말하는걸 못봐서 털어놨으면 좋겠는데 라고 말하길래다른 사람들은 그럼 힘들때 어떻게 하는지 궁금해지더라구요.제가 좀 제 감정표현을 하는데 서툰게 없지않아 있긴하지만 남한테 그렇게 힘들때 다들 털어놓으시나요어떻게 지인들에게 감정적인 표현을 다들하시는지 궁금해요.'"
      ],
      "metadata": {
        "id": "Tsdxo_GvDkLt"
      },
      "execution_count": 2,
      "outputs": []
    },
    {
      "cell_type": "code",
      "source": [
        "#py-hanspell 패키지\n",
        "from hanspell import spell_checker\n",
        "spelled_sent = spell_checker.check(text)\n",
        "hanspell_sent = spelled_sent.checked\n",
        "print(hanspell_sent)\n"
      ],
      "metadata": {
        "colab": {
          "base_uri": "https://localhost:8080/"
        },
        "id": "J5nn2YI9JXCj",
        "outputId": "8d8bf149-3de7-46ef-915e-d4d86497918e"
      },
      "execution_count": 3,
      "outputs": [
        {
          "output_type": "stream",
          "name": "stdout",
          "text": [
            "저는 enfp 유형인데 저 같은 성향을 가진 사람들은 어떻게 행동하는지 궁금해서 글 남겨요! 저는 힘든 상황이 있을 때 가족들한테 털어놓고 어떻게든 그 상황을 해결해나가려고 하는 편이에요. 친구들한테도 힘든 상황에 대해서 감정적으로 울고 불며 그렇게 잘 털어놓지 않고 전혀 티 내지도 않아요. 항상 긍정적인 모습을 주로 보여주긴 해요. 어차피 내가 해결해야 할 일이고, 나로 인해 상대가 걱정하는 것도 싫고 제 우울한 감정을 친구한테 전달하고 싶지 않아서 그런 거 같아요. 그래도 정말 친한 친구들이랑은 만날 때 어느 정도 문제가 해결되어갈 때쯤 이런 상황이 있었고 힘들었다. 이렇게 털어놓는 편이에요. 근데 어느 날 한 지인(이성)이  저한테 너는 힘들면 힘들다고 말하는 걸 못 봐서 털어놨으면 좋겠는데라고 말하길래 다른 사람들은 그럼 힘들 때 어떻게 하는지 궁금해지더라고요. 제가 좀 제 감정 표현을 하는데 서툰 게 없지 않아 있긴 하지만 남한테 그렇게 힘들 때 다들 털어놓으시나요 어떻게 지인들에게 감정적인 표현을 다들 하시는지 궁금해요.\n"
          ]
        }
      ]
    },
    {
      "cell_type": "code",
      "metadata": {
        "colab": {
          "base_uri": "https://localhost:8080/"
        },
        "id": "WEHDRIblIakw",
        "outputId": "fac59bbc-a206-44ee-eacf-f3140643cffe"
      },
      "source": [
        "#kss - 문장 토큰화\n",
        "import kss\n",
        "kss_complete_text = kss.split_sentences(hanspell_sent)\n",
        "print(kss_complete_text)\n"
      ],
      "execution_count": 4,
      "outputs": [
        {
          "output_type": "stream",
          "name": "stderr",
          "text": [
            "[Korean Sentence Splitter]: Initializing Pynori...\n"
          ]
        },
        {
          "output_type": "stream",
          "name": "stdout",
          "text": [
            "['저는 enfp 유형인데 저 같은 성향을 가진 사람들은 어떻게 행동하는지 궁금해서 글 남겨요!', '저는 힘든 상황이 있을 때 가족들한테 털어놓고 어떻게든 그 상황을 해결해나가려고 하는 편이에요.', '친구들한테도 힘든 상황에 대해서 감정적으로 울고 불며 그렇게 잘 털어놓지 않고 전혀 티 내지도 않아요.', '항상 긍정적인 모습을 주로 보여주긴 해요.', '어차피 내가 해결해야 할 일이고, 나로 인해 상대가 걱정하는 것도 싫고 제 우울한 감정을 친구한테 전달하고 싶지 않아서 그런 거 같아요.', '그래도 정말 친한 친구들이랑은 만날 때 어느 정도 문제가 해결되어갈 때쯤 이런 상황이 있었고 힘들었다.', '이렇게 털어놓는 편이에요.', '근데 어느 날 한 지인(이성)이 저한테 너는 힘들면 힘들다고 말하는 걸 못 봐서 털어놨으면 좋겠는데라고 말하길래 다른 사람들은 그럼 힘들 때 어떻게 하는지 궁금해지더라고요.', '제가 좀 제 감정 표현을 하는데 서툰 게 없지 않아 있긴 하지만 남한테 그렇게 힘들 때 다들 털어놓으시나요', '어떻게 지인들에게 감정적인 표현을 다들 하시는지 궁금해요.']\n"
          ]
        }
      ]
    },
    {
      "cell_type": "code",
      "source": [
        "#형태소 토큰화\n",
        "import konlpy\n",
        "from konlpy.tag import Okt  \n",
        "okt=Okt()\n",
        "size = len(kss_complete_text)\n",
        "for i in range(size):\n",
        "  print(okt.morphs(kss_complete_text[i]))\n"
      ],
      "metadata": {
        "colab": {
          "base_uri": "https://localhost:8080/"
        },
        "id": "wo3jGX_0E1dE",
        "outputId": "8464c941-07d7-4826-859a-8bf9d1b032c2"
      },
      "execution_count": 5,
      "outputs": [
        {
          "output_type": "stream",
          "name": "stdout",
          "text": [
            "['저', '는', 'enfp', '유형', '인데', '저', '같은', '성향', '을', '가진', '사람', '들', '은', '어떻게', '행동', '하는지', '궁금해서', '글', '남겨요', '!']\n",
            "['저', '는', '힘든', '상황', '이', '있을', '때', '가족', '들', '한테', '털어놓고', '어떻', '게', '든', '그', '상황', '을', '해결', '해나가려고', '하는', '편이', '에요', '.']\n",
            "['친구', '들', '한테', '도', '힘든', '상황', '에', '대해', '서', '감정', '적', '으로', '울', '고', '불며', '그렇게', '잘', '털어놓지', '않고', '전혀', '티', '내지', '도', '않아요', '.']\n",
            "['항상', '긍정', '적', '인', '모습', '을', '주로', '보여주긴', '해', '요', '.']\n",
            "['어차피', '내', '가', '해결', '해야', '할', '일이', '고', ',', '나로', '인해', '상대', '가', '걱정', '하는', '것', '도', '싫고', '제', '우울한', '감정', '을', '친구', '한테', '전달', '하고', '싶지', '않아서', '그런', '거', '같아요', '.']\n",
            "['그래도', '정말', '친한', '친구', '들', '이랑은', '만날', '때', '어느', '정도', '문제', '가', '해결', '되어', '갈', '때', '쯤', '이런', '상황', '이', '있었고', '힘들었다', '.']\n",
            "['이렇게', '털어놓는', '편이', '에요', '.']\n",
            "['근데', '어느', '날', '한', '지인', '(', '이성', ')', '이', '저', '한테', '너', '는', '힘들면', '힘들다고', '말', '하는', '걸', '못', '봐서', '털어놨으면', '좋겠는데라고', '말', '하길래', '다른', '사람', '들', '은', '그럼', '힘들', '때', '어떻게', '하는지', '궁금해지더라고요', '.']\n",
            "['제', '가', '좀', '제', '감정', '표현', '을', '하는데', '서툰', '게', '없지', '않아', '있긴', '하지만', '남', '한테', '그렇게', '힘들', '때', '다', '들', '털어놓으시나요']\n",
            "['어떻게', '지인', '들', '에게', '감정', '적', '인', '표현', '을', '다', '들', '하시는지', '궁금해요', '.']\n"
          ]
        }
      ]
    }
  ]
}